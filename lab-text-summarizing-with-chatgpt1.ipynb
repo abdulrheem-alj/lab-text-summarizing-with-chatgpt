{
 "cells": [
  {
   "cell_type": "markdown",
   "metadata": {},
   "source": [
    "# Text summarizing with ChaptGPT\n",
    "In this lesson, you will summarize text with a focus on specific topics.\n",
    "\n",
    "## Setup"
   ]
  },
  {
   "cell_type": "code",
   "execution_count": 2,
   "metadata": {
    "tags": []
   },
   "outputs": [],
   "source": [
    "from openai import OpenAI\n",
    "import os\n",
    "\n",
    "from dotenv import load_dotenv, find_dotenv\n",
    "_ = load_dotenv(find_dotenv()) # read local .env file\n",
    "\n",
    "OPENAI_API_KEY  = os.getenv('OPENAI_API_KEY')"
   ]
  },
  {
   "cell_type": "code",
   "execution_count": 3,
   "metadata": {
    "tags": []
   },
   "outputs": [],
   "source": [
    "client = OpenAI(\n",
    "    # This is the default and can be omitted\n",
    "    api_key=OPENAI_API_KEY,\n",
    ")\n",
    "\n",
    "\n",
    "def get_completion(prompt, model=\"gpt-3.5-turbo\"): # Andrew mentioned that the prompt/ completion paradigm is preferable for this class\n",
    "    messages = [{\"role\": \"user\", \"content\": prompt}]\n",
    "    response = client.chat.completions.create(\n",
    "        model=model,\n",
    "        messages=messages,\n",
    "        temperature=0, # this is the degree of randomness of the model's output\n",
    "    )\n",
    "    return response.choices[0].message.content\n"
   ]
  },
  {
   "cell_type": "markdown",
   "metadata": {},
   "source": [
    "## Text to summarize"
   ]
  },
  {
   "cell_type": "code",
   "execution_count": 4,
   "metadata": {
    "tags": []
   },
   "outputs": [],
   "source": [
    "prod_review = \"\"\"\n",
    "Got this panda plush toy for my daughter's birthday, \\\n",
    "who loves it and takes it everywhere. It's soft and \\ \n",
    "super cute, and its face has a friendly look. It's \\ \n",
    "a bit small for what I paid though. I think there \\ \n",
    "might be other options that are bigger for the \\ \n",
    "same price. It arrived a day earlier than expected, \\ \n",
    "so I got to play with it myself before I gave it \\ \n",
    "to her.\n",
    "\"\"\""
   ]
  },
  {
   "cell_type": "markdown",
   "metadata": {},
   "source": [
    "## Summarize with a word/sentence/character limit"
   ]
  },
  {
   "cell_type": "code",
   "execution_count": 5,
   "metadata": {
    "tags": []
   },
   "outputs": [
    {
     "name": "stdout",
     "output_type": "stream",
     "text": [
      "Soft, cute panda plush loved by daughter, but smaller than expected for the price. Arrived early, friendly face.\n"
     ]
    }
   ],
   "source": [
    "prompt = f\"\"\"\n",
    "Your task is to generate a short summary of a product \\\n",
    "review from an ecommerce site. \n",
    "\n",
    "Summarize the review below, delimited by triple \n",
    "backticks, in at most 30 words. \n",
    "\n",
    "Review: ```{prod_review}```\n",
    "\"\"\"\n",
    "\n",
    "response = get_completion(prompt)\n",
    "print(response)\n"
   ]
  },
  {
   "cell_type": "markdown",
   "metadata": {},
   "source": [
    "## Summarize with a focus on shipping and delivery"
   ]
  },
  {
   "cell_type": "code",
   "execution_count": 6,
   "metadata": {
    "tags": []
   },
   "outputs": [
    {
     "name": "stdout",
     "output_type": "stream",
     "text": [
      "The customer was pleased with the early delivery of the panda plush toy, but felt it was slightly small for the price paid.\n"
     ]
    }
   ],
   "source": [
    "prompt = f\"\"\"\n",
    "Your task is to generate a short summary of a product \\\n",
    "review from an ecommerce site to give feedback to the \\\n",
    "Shipping deparmtment. \n",
    "\n",
    "Summarize the review below, delimited by triple \n",
    "backticks, in at most 30 words, and focusing on any aspects \\\n",
    "that mention shipping and delivery of the product. \n",
    "\n",
    "Review: ```{prod_review}```\n",
    "\"\"\"\n",
    "\n",
    "response = get_completion(prompt)\n",
    "print(response)\n"
   ]
  },
  {
   "cell_type": "markdown",
   "metadata": {},
   "source": [
    "## Summarize with a focus on price and value"
   ]
  },
  {
   "cell_type": "code",
   "execution_count": 7,
   "metadata": {
    "tags": []
   },
   "outputs": [
    {
     "name": "stdout",
     "output_type": "stream",
     "text": [
      "The panda plush toy is loved for its softness and cuteness, but some customers feel it's a bit small for the price.\n"
     ]
    }
   ],
   "source": [
    "prompt = f\"\"\"\n",
    "Your task is to generate a short summary of a product \\\n",
    "review from an ecommerce site to give feedback to the \\\n",
    "pricing deparmtment, responsible for determining the \\\n",
    "price of the product.  \n",
    "\n",
    "Summarize the review below, delimited by triple \n",
    "backticks, in at most 30 words, and focusing on any aspects \\\n",
    "that are relevant to the price and perceived value. \n",
    "\n",
    "Review: ```{prod_review}```\n",
    "\"\"\"\n",
    "\n",
    "response = get_completion(prompt)\n",
    "print(response)\n"
   ]
  },
  {
   "cell_type": "markdown",
   "metadata": {},
   "source": [
    "#### Comment\n",
    "- Summaries include topics that are not related to the topic of focus."
   ]
  },
  {
   "cell_type": "markdown",
   "metadata": {},
   "source": [
    "## Try \"extract\" instead of \"summarize\""
   ]
  },
  {
   "cell_type": "code",
   "execution_count": 8,
   "metadata": {
    "tags": []
   },
   "outputs": [
    {
     "name": "stdout",
     "output_type": "stream",
     "text": [
      "Feedback: The product arrived a day earlier than expected, allowing the customer to play with it before giving it as a gift.\n"
     ]
    }
   ],
   "source": [
    "prompt = f\"\"\"\n",
    "Your task is to extract relevant information from \\ \n",
    "a product review from an ecommerce site to give \\\n",
    "feedback to the Shipping department. \n",
    "\n",
    "From the review below, delimited by triple quotes \\\n",
    "extract the information relevant to shipping and \\ \n",
    "delivery. Limit to 30 words. \n",
    "\n",
    "Review: ```{prod_review}```\n",
    "\"\"\"\n",
    "\n",
    "response = get_completion(prompt)\n",
    "print(response)"
   ]
  },
  {
   "cell_type": "markdown",
   "metadata": {},
   "source": [
    "## Summarize multiple product reviews"
   ]
  },
  {
   "cell_type": "code",
   "execution_count": 9,
   "metadata": {
    "tags": []
   },
   "outputs": [],
   "source": [
    "\n",
    "review_1 = prod_review \n",
    "\n",
    "# review for a standing lamp\n",
    "review_2 = \"\"\"\n",
    "Needed a nice lamp for my bedroom, and this one \\\n",
    "had additional storage and not too high of a price \\\n",
    "point. Got it fast - arrived in 2 days. The string \\\n",
    "to the lamp broke during the transit and the company \\\n",
    "happily sent over a new one. Came within a few days \\\n",
    "as well. It was easy to put together. Then I had a \\\n",
    "missing part, so I contacted their support and they \\\n",
    "very quickly got me the missing piece! Seems to me \\\n",
    "to be a great company that cares about their customers \\\n",
    "and products. \n",
    "\"\"\"\n",
    "\n",
    "# review for an electric toothbrush\n",
    "review_3 = \"\"\"\n",
    "My dental hygienist recommended an electric toothbrush, \\\n",
    "which is why I got this. The battery life seems to be \\\n",
    "pretty impressive so far. After initial charging and \\\n",
    "leaving the charger plugged in for the first week to \\\n",
    "condition the battery, I've unplugged the charger and \\\n",
    "been using it for twice daily brushing for the last \\\n",
    "3 weeks all on the same charge. But the toothbrush head \\\n",
    "is too small. I’ve seen baby toothbrushes bigger than \\\n",
    "this one. I wish the head was bigger with different \\\n",
    "length bristles to get between teeth better because \\\n",
    "this one doesn’t.  Overall if you can get this one \\\n",
    "around the $50 mark, it's a good deal. The manufactuer's \\\n",
    "replacements heads are pretty expensive, but you can \\\n",
    "get generic ones that're more reasonably priced. This \\\n",
    "toothbrush makes me feel like I've been to the dentist \\\n",
    "every day. My teeth feel sparkly clean! \n",
    "\"\"\"\n",
    "\n",
    "# review for a blender\n",
    "review_4 = \"\"\"\n",
    "So, they still had the 17 piece system on seasonal \\\n",
    "sale for around $49 in the month of November, about \\\n",
    "half off, but for some reason (call it price gouging) \\\n",
    "around the second week of December the prices all went \\\n",
    "up to about anywhere from between $70-$89 for the same \\\n",
    "system. And the 11 piece system went up around $10 or \\\n",
    "so in price also from the earlier sale price of $29. \\\n",
    "So it looks okay, but if you look at the base, the part \\\n",
    "where the blade locks into place doesn’t look as good \\\n",
    "as in previous editions from a few years ago, but I \\\n",
    "plan to be very gentle with it (example, I crush \\\n",
    "very hard items like beans, ice, rice, etc. in the \\ \n",
    "blender first then pulverize them in the serving size \\\n",
    "I want in the blender then switch to the whipping \\\n",
    "blade for a finer flour, and use the cross cutting blade \\\n",
    "first when making smoothies, then use the flat blade \\\n",
    "if I need them finer/less pulpy). Special tip when making \\\n",
    "smoothies, finely cut and freeze the fruits and \\\n",
    "vegetables (if using spinach-lightly stew soften the \\ \n",
    "spinach then freeze until ready for use-and if making \\\n",
    "sorbet, use a small to medium sized food processor) \\ \n",
    "that you plan to use that way you can avoid adding so \\\n",
    "much ice if at all-when making your smoothie. \\\n",
    "After about a year, the motor was making a funny noise. \\\n",
    "I called customer service but the warranty expired \\\n",
    "already, so I had to buy another one. FYI: The overall \\\n",
    "quality has gone done in these types of products, so \\\n",
    "they are kind of counting on brand recognition and \\\n",
    "consumer loyalty to maintain sales. Got it in about \\\n",
    "two days.\n",
    "\"\"\"\n",
    "\n",
    "reviews = [review_1, review_2, review_3, review_4]"
   ]
  },
  {
   "cell_type": "code",
   "execution_count": 10,
   "metadata": {
    "tags": []
   },
   "outputs": [
    {
     "name": "stdout",
     "output_type": "stream",
     "text": [
      "0 Soft, cute panda plush loved by daughter, but small for price. Arrived early, friendly face. \n",
      "\n",
      "1 Great lamp with storage, fast delivery, excellent customer service for missing parts. Company cares about customers. \n",
      "\n",
      "2 Impressive battery life, small brush head, good deal for $50, generic replacement heads available, leaves teeth feeling clean. \n",
      "\n",
      "3 Review: Price fluctuations, decreased quality, motor issues after a year, but efficient for specific tasks. Brand loyalty key. \n",
      "\n"
     ]
    }
   ],
   "source": [
    "for i in range(len(reviews)):\n",
    "    prompt = f\"\"\"\n",
    "    Your task is to generate a short summary of a product \\ \n",
    "    review from an ecommerce site. \n",
    "\n",
    "    Summarize the review below, delimited by triple \\\n",
    "    backticks in at most 20 words. \n",
    "\n",
    "    Review: ```{reviews[i]}```\n",
    "    \"\"\"\n",
    "\n",
    "    response = get_completion(prompt)\n",
    "    print(i, response, \"\\n\")"
   ]
  },
  {
   "cell_type": "markdown",
   "metadata": {},
   "source": [
    "# Exercise\n",
    " - Complete the prompts similar to what we did in class. \n",
    "     - Try at least 3 versions\n",
    "     - Be creative\n",
    " - Write a one page report summarizing your findings.\n",
    "     - Were there variations that didn't work well? i.e., where GPT either hallucinated or wrong\n",
    " - What did you learn?"
   ]
  },
  {
   "cell_type": "markdown",
   "metadata": {},
   "source": [
    "# 1V"
   ]
  },
  {
   "cell_type": "code",
   "execution_count": 11,
   "metadata": {},
   "outputs": [],
   "source": [
    "\n",
    "review_1 = \"\"\"\n",
    "This soccer ball has been a great addition to my training gear. \\\n",
    "It has a nice grip and maintains its shape well during intense practices. \\\n",
    "The price point was very reasonable, and it arrived in just a couple of days. \\\n",
    "Unfortunately, the valve for inflating the ball broke during transit, but the company promptly sent a replacement. \\\n",
    "It arrived quickly, and the ball was very easy to inflate and use. Overall, I'm really impressed with the company’s customer service and the quality of their product.\n",
    "\"\"\"\n",
    "\n",
    "\n",
    "review_2 = \"\"\"\n",
    "I decided to get these soccer cleats based on my coach's recommendation. \\\n",
    "The fit is snug and comfortable, and the traction is impressive on the field. \\\n",
    "After wearing them for several practices, I can say the quality is excellent. \\\n",
    "However, the color options are a bit limited, and I'd prefer a brighter design. \\\n",
    "Overall, if you can find these for around $80, it's a great deal. \\\n",
    "The only downside is that the replacement studs are a bit pricey, but I found some affordable alternatives. \\\n",
    "These cleats make me feel confident during every match!\n",
    "\"\"\"\n",
    "\n",
    "\n",
    "review_3 = \"\"\"\n",
    "I purchased this soccer training aid during the off-season for about $50, and it has been worth every penny. \\\n",
    "It helps improve my passing accuracy and ball control. I noticed a difference in my skills after just a few weeks of use. \\\n",
    "Initially, the setup was a bit tricky, but once I figured it out, it became easy to use. \\\n",
    "However, I did have a minor issue with one of the straps breaking, but customer service was quick to send a replacement. \\\n",
    "I highly recommend this for anyone serious about improving their game!\n",
    "\"\"\"\n",
    "\n",
    "\n",
    "review_4 = \"\"\"\n",
    "I bought this portable soccer goal for my backyard, and I was thrilled to find it on sale for around $70. \\\n",
    "However, I noticed that the prices increased significantly after the holiday season. \\\n",
    "The goal itself is sturdy, but the assembly instructions were not very clear. \\\n",
    "I've used it for several months, and while it holds up well, I recommend being gentle with it during setup to avoid any damage. \\\n",
    "After a few weeks of use, I noticed some wear on the net, but for the price, it’s a solid product. \\\n",
    "Customer support was responsive when I reached out about a missing part. Overall, I’d say it’s a good investment for practice!\n",
    "\"\"\"\n",
    "\n",
    "reviews = [review_1, review_2, review_3, review_4]"
   ]
  },
  {
   "cell_type": "code",
   "execution_count": null,
   "metadata": {},
   "outputs": [
    {
     "name": "stdout",
     "output_type": "stream",
     "text": [
      "0 Great soccer ball for training, good grip, durable, reasonable price. Excellent customer service for valve issue. \n",
      "\n",
      "1 Comfortable, snug soccer cleats with impressive traction. Limited color options, but great quality for the price. \n",
      "\n",
      "2 Summary: \n",
      "Effective soccer training aid for $50, improves passing accuracy and ball control, minor strap issue resolved quickly. Highly recommended. \n",
      "\n",
      "3 Portable soccer goal is sturdy, affordable, with unclear assembly instructions. Wear on net after use, good customer support. \n",
      "\n"
     ]
    }
   ],
   "source": [
    "for i in range(len(reviews)):\n",
    "    prompt = f\"\"\"\n",
    "    Your task is to generate a short summary of a product \\\n",
    "    review from an ecommerce site.\n",
    "\n",
    "    Summarize the review below, delimited by triple \\\n",
    "    backticks in at most 20 words.\n",
    "\n",
    "    Review: ```{reviews[i]}```\n",
    "    \"\"\"\n",
    "\n",
    "    response = get_completion(prompt)  # Implement this function to get the summary\n",
    "    print(i, response, \"\\n\")"
   ]
  },
  {
   "cell_type": "markdown",
   "metadata": {},
   "source": [
    "# 2V"
   ]
  },
  {
   "cell_type": "code",
   "execution_count": 13,
   "metadata": {},
   "outputs": [],
   "source": [
    "# Review for a video game\n",
    "review_1 = \"\"\"\n",
    "This video game has been a fantastic addition to my collection. \\\n",
    "The graphics are stunning, and the gameplay is smooth and engaging. \\\n",
    "The price was very reasonable, and it arrived in just a couple of days. \\\n",
    "Unfortunately, I encountered a minor bug during gameplay, but the developers quickly released a patch. \\\n",
    "Overall, I'm really impressed with the game's quality and the developers' commitment to improving it.\n",
    "\"\"\"\n",
    "\n",
    "# Review for a gaming controller\n",
    "review_2 = \"\"\"\n",
    "I decided to get this gaming controller based on my friend's recommendation. \\\n",
    "The grip is comfortable and provides excellent control during intense gaming sessions. \\\n",
    "After using it for several weeks, I can say the quality is top-notch. \\\n",
    "However, I wish it had more color options, as the design is a bit plain. \\\n",
    "If you can find it for around $50, it's a great deal. \n",
    "\"\"\"\n",
    "\n",
    "# Review for a gaming headset\n",
    "review_3 = \"\"\"\n",
    "I purchased this gaming headset for about $70, and it has been worth every penny. \\\n",
    "The sound quality is exceptional, and the microphone works perfectly for online gaming. \\\n",
    "Initially, the setup was a bit tricky, but once I figured it out, it became easy to use. \\\n",
    "However, I had a minor issue with the ear cushions, but customer service was quick to send a replacement. \\\n",
    "I highly recommend this for anyone serious about their gaming experience!\n",
    "\"\"\"\n",
    "\n",
    "# Review for a gaming laptop\n",
    "review_4 = \"\"\"\n",
    "I bought this gaming laptop for my streaming setup, and I was thrilled to find it on sale for around $1200. \\\n",
    "However, I noticed that the prices increased significantly after the holiday season. \\\n",
    "The performance is outstanding, but the battery life could be better. \\\n",
    "I've used it for several months, and while it holds up well, I recommend being mindful of overheating during extended gaming sessions. \\\n",
    "Customer support was responsive when I reached out about a minor issue. Overall, I’d say it’s a solid investment for gamers!\n",
    "\"\"\"\n",
    "\n",
    "reviews = [review_1, review_2, review_3, review_4]"
   ]
  },
  {
   "cell_type": "code",
   "execution_count": 14,
   "metadata": {},
   "outputs": [
    {
     "name": "stdout",
     "output_type": "stream",
     "text": [
      "0 Great graphics, smooth gameplay, reasonable price, quick delivery. Minor bug fixed promptly. Impressed with quality and developer support. \n",
      "\n",
      "1 Great gaming controller with comfortable grip and excellent control. Top-notch quality, but limited color options. Good deal around $50. \n",
      "\n",
      "2 Great gaming headset for $70, exceptional sound quality, perfect microphone, minor cushion issue resolved quickly. Highly recommended. \n",
      "\n",
      "3 Summary: \n",
      "Great gaming laptop, good performance, battery life could be better, watch out for overheating, responsive customer support. Solid investment. \n",
      "\n"
     ]
    }
   ],
   "source": [
    "for i in range(len(reviews)):\n",
    "    prompt = f\"\"\"\n",
    "    Your task is to generate a short summary of a product \\\n",
    "    review from an ecommerce site.\n",
    "\n",
    "    Summarize the review below, delimited by triple \\\n",
    "    backticks in at most 20 words.\n",
    "\n",
    "    Review: ```{reviews[i]}```\n",
    "    \"\"\"\n",
    "\n",
    "    response = get_completion(prompt)  # Implement this function to get the summary\n",
    "    print(i, response, \"\\n\")"
   ]
  },
  {
   "cell_type": "markdown",
   "metadata": {},
   "source": [
    "# 3V"
   ]
  },
  {
   "cell_type": "code",
   "execution_count": 15,
   "metadata": {},
   "outputs": [],
   "source": [
    "# Review for a car\n",
    "review_1 = \"\"\"\n",
    "This car has been a fantastic addition to my collection. \\\n",
    "The design is stunning, and the performance is smooth and engaging. \\\n",
    "The price was very reasonable, and it arrived in just a few days. \\\n",
    "Unfortunately, I encountered a minor issue with the engine, but the company quickly released a fix. \\\n",
    "Overall, I'm really impressed with the car's quality and the company's commitment to improving it.\n",
    "\"\"\"\n",
    "\n",
    "# Review for a car remote control\n",
    "review_2 = \"\"\"\n",
    "I decided to get this remote control for my car based on my friend's recommendation. \\\n",
    "The grip is comfortable and provides excellent control while driving. \\\n",
    "After using it for several weeks, I can say the quality is top-notch. \\\n",
    "However, I wish it had more color options, as the design is a bit plain. \\\n",
    "If you can find it for around $50, it's a great deal.\n",
    "\"\"\"\n",
    "\n",
    "# Review for a Bluetooth headset for the car\n",
    "review_3 = \"\"\"\n",
    "I purchased this Bluetooth headset for the car for about $70, and it has been worth every penny. \\\n",
    "The sound quality is exceptional, and the microphone works perfectly for calls. \\\n",
    "Initially, the setup was a bit tricky, but once I figured it out, it became easy to use. \\\n",
    "However, I had a minor issue with the battery, but customer service was quick to send a replacement. \\\n",
    "I highly recommend this for anyone looking for a comfortable driving experience!\n",
    "\"\"\"\n",
    "\n",
    "# Review for an electric car\n",
    "review_4 = \"\"\"\n",
    "I bought this electric car for my streaming setup, and I was thrilled to find it on sale for around $1200. \\\n",
    "However, I noticed that prices increased significantly after the holiday season. \\\n",
    "The performance is outstanding, but the battery life could be better. \\\n",
    "I've used it for several months, and while it holds up well, I recommend being mindful of overheating during long drives. \\\n",
    "Customer support was responsive when I reached out about a minor issue. Overall, I’d say it's a solid investment for drivers!\n",
    "\"\"\"\n",
    "\n",
    "reviews = [review_1, review_2, review_3, review_4]"
   ]
  },
  {
   "cell_type": "code",
   "execution_count": 16,
   "metadata": {},
   "outputs": [
    {
     "name": "stdout",
     "output_type": "stream",
     "text": [
      "0 Great design, smooth performance, reasonable price. Minor engine issue resolved promptly. Impressed with quality and company's commitment. \n",
      "\n",
      "1 Comfortable grip, excellent control, top-notch quality. Limited color options, plain design. Great deal for around $50. \n",
      "\n",
      "2 Great Bluetooth headset for the car, worth the price. Exceptional sound quality, easy to use. Minor battery issue resolved quickly. \n",
      "\n",
      "3 Summary: Great performance, good value on sale, battery life could improve, watch for overheating, responsive customer support. Solid investment. \n",
      "\n"
     ]
    }
   ],
   "source": [
    "for i in range(len(reviews)):\n",
    "    prompt = f\"\"\"\n",
    "    Your task is to generate a short summary of a product \\\n",
    "    review from an ecommerce site.\n",
    "\n",
    "    Summarize the review below, delimited by triple \\\n",
    "    backticks in at most 20 words.\n",
    "\n",
    "    Review: ```{reviews[i]}```\n",
    "    \"\"\"\n",
    "\n",
    "    response = get_completion(prompt)  # Implement this function to get the summary\n",
    "    print(i, response, \"\\n\")"
   ]
  },
  {
   "cell_type": "markdown",
   "metadata": {},
   "source": [
    "## Report\n",
    "\n",
    "### Effective Summarization\n",
    "1. **Conciseness**: In many cases, GPT successfully distilled lengthy reviews into concise summaries that captured the essence of the user experience. \n",
    "\n",
    "2. **Clarity**: The generated summaries were generally clear and easy to understand, making them useful for potential customers looking for quick insights into the products. \n",
    "\n",
    "### Variations That Did Not Work Well\n",
    "1. **Hallucinations**: In some instances, GPT produced summaries that included information not present in the original review. For example, a summary might mention features or experiences that were not referenced, leading to potential misinformation. This was observed in both car and video game reviews.\n",
    "\n",
    "2. **Ambiguity**: Certain summaries lacked specificity, using vague language that could mislead readers. \n",
    "\n",
    "3. **Over-Simplification**: Some summaries oversimplified complex reviews, omitting critical details that could aid in a customer’s decision-making process. This was particularly evident in reviews that discussed both pros and cons, where the generated summary leaned too heavily on one side.\n",
    "\n",
    " \n",
    "## Lessons Learned\n",
    "1. **Prompt Design**: Crafting specific and clear prompts is crucial. Providing context and specific instructions can help reduce hallucinations and improve the relevance of the generated summaries.\n",
    "\n",
    "2. **Iterative Feedback**: Implementing a feedback loop where summaries are reviewed and corrected can enhance the quality of future generations. This could involve human oversight to ensure accuracy.\n",
    "\n",
    "3. **Limitations of AI**: While GPT is a powerful tool, it is not infallible. Users must remain aware of its limitations and verify the information, especially when dealing with critical product details.\n",
    "\n",
    "4. **Use Cases**: The findings suggest that GPT can be a valuable tool for summarizing reviews, but it is best used as a supplementary resource rather than a sole source of truth. Combining AI-generated summaries with human insights may yield the best results.\n",
    "\n",
    "## Conclusion\n",
    "Overall, GPT demonstrated significant potential in summarizing product reviews effectively. However, variations that led to inaccuracies underscore the importance of careful prompt crafting and the need for human oversight. Future applications should focus on refining the process to enhance accuracy and reliability in AI-generated content.  "
   ]
  }
 ],
 "metadata": {
  "kernelspec": {
   "display_name": "Python 3",
   "language": "python",
   "name": "python3"
  },
  "language_info": {
   "codemirror_mode": {
    "name": "ipython",
    "version": 3
   },
   "file_extension": ".py",
   "mimetype": "text/x-python",
   "name": "python",
   "nbconvert_exporter": "python",
   "pygments_lexer": "ipython3",
   "version": "3.11.4"
  }
 },
 "nbformat": 4,
 "nbformat_minor": 4
}
